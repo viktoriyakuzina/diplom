{
  "nbformat": 4,
  "nbformat_minor": 0,
  "metadata": {
    "colab": {
      "name": "tweets.ipynb",
      "provenance": [],
      "collapsed_sections": []
    },
    "kernelspec": {
      "name": "python3",
      "display_name": "Python 3"
    },
    "language_info": {
      "name": "python"
    }
  },
  "cells": [
    {
      "cell_type": "code",
      "source": [
        "import tweepy\n",
        "import csv"
      ],
      "metadata": {
        "id": "glvgVho11D2Z"
      },
      "execution_count": 1,
      "outputs": []
    },
    {
      "cell_type": "code",
      "source": [
        "consumer_key=\"consumer_key\"\n",
        "consumer_secret=\"consumer_secret\"\n",
        "access_key= \"access_key\"\n",
        "access_secret=\"access_secret\""
      ],
      "metadata": {
        "id": "FGwBtC0e1NsC"
      },
      "execution_count": 2,
      "outputs": []
    },
    {
      "cell_type": "code",
      "source": [
        "def get_all_tweets(screen_name):\n",
        "\t#authorize twitter, initialize tweepy\n",
        "\tauth = tweepy.OAuthHandler(consumer_key, consumer_secret)\n",
        "\tauth.set_access_token(access_key, access_secret)\n",
        "\tapi = tweepy.API(auth)\n",
        "\t\n",
        "\talltweets = []\t\n",
        "\t\n",
        "\tnew_tweets = api.user_timeline(screen_name = screen_name,count=20000)\n",
        "\t\n",
        "\t#save most recent tweets\n",
        "\talltweets.extend(new_tweets)\n",
        "\t\n",
        "\t#save the id of the oldest tweet less one\n",
        "\toldest = alltweets[-1].id - 1\n",
        "\t\n",
        "\t#keep grabbing tweets until there are no tweets left to grab\n",
        "\twhile len(new_tweets) > 0:\n",
        "\t\tprint(\"getting tweets before {}\".format(oldest))\n",
        "\t\t\n",
        "\t\t#all subsiquent requests use the max_id param to prevent duplicates\n",
        "\t\tnew_tweets = api.user_timeline(screen_name = screen_name,count=20000,max_id=oldest)\n",
        "\t\t\n",
        "\t\t#save most recent tweets\n",
        "\t\talltweets.extend(new_tweets)\n",
        "\t\t\n",
        "\t\t#update the id of the oldest tweet less one\n",
        "\t\toldest = alltweets[-1].id - 1\n",
        "\t\t\n",
        "\t\tprint(\"...{} tweets downloaded so far\".format(len(alltweets)))\n",
        "\t\n",
        "\touttweets = [[tweet.id_str, tweet.created_at, tweet.text.encode(\"utf-8\")] for tweet in alltweets]\n",
        "\t\n",
        "\twith open('{}_tweets.csv'.format(screen_name), 'w') as f:\n",
        "\t\twriter = csv.writer(f)\n",
        "\t\twriter.writerow([\"id\",\"created_at\",\"text\"])\n",
        "\t\twriter.writerows(outtweets)\n",
        "\t\tprint('{}_tweets.csv was successfully created.'.format(screen_name))\n",
        "\tpass"
      ],
      "metadata": {
        "id": "IK1xGsn63b4f"
      },
      "execution_count": null,
      "outputs": []
    },
    {
      "cell_type": "code",
      "source": [
        "if __name__ == '__main__':\n",
        "\tget_all_tweets(\"elonmusk\")"
      ],
      "metadata": {
        "id": "W_ksXQCTR0E9"
      },
      "execution_count": null,
      "outputs": []
    }
  ]
}